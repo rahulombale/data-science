{
 "cells": [
  {
   "cell_type": "markdown",
   "metadata": {},
   "source": [
    "# Probabilty"
   ]
  },
  {
   "cell_type": "markdown",
   "metadata": {},
   "source": [
    "- Probability is a number from 0 to 1 that\n",
    "tells you how likely something is to\n",
    "happen.\n",
    "- Probability can have two approaches\n",
    " 1. experimental probability: Number of times event occur\n",
    " 2. theoretical probability: expected result"
   ]
  },
  {
   "cell_type": "markdown",
   "metadata": {},
   "source": [
    "#### **Therotical Probability VS Experimental probability**"
   ]
  },
  {
   "cell_type": "markdown",
   "metadata": {},
   "source": [
    "<img src=\"style/prob.png\" width =\"600\" height=600 >"
   ]
  },
  {
   "cell_type": "markdown",
   "metadata": {},
   "source": [
    "Results from an experiment don't always match the theoretical results, **but they should be close after a large number of trials.**"
   ]
  },
  {
   "cell_type": "markdown",
   "metadata": {},
   "source": [
    "<img src=\"style/term.png\" width =\"600\" height=\"600\">"
   ]
  },
  {
   "cell_type": "markdown",
   "metadata": {},
   "source": [
    "# Anology"
   ]
  },
  {
   "cell_type": "markdown",
   "metadata": {},
   "source": [
    "There are 3 parts we have to know the probability that the 2 parts are defective"
   ]
  },
  {
   "cell_type": "markdown",
   "metadata": {},
   "source": [
    "<img src=\"style/part.png\" width =\"600\" height=\"600\">"
   ]
  },
  {
   "cell_type": "markdown",
   "metadata": {},
   "source": [
    "Because 2 parts are defective but how many ways this 2 parts are defective then ans is 3 ways. Then we have 3 observations in **sample space**. GDD, DGD, DDG"
   ]
  },
  {
   "cell_type": "markdown",
   "metadata": {},
   "source": [
    "## Independent Probability (Disjoint then (OR) sign +)"
   ]
  },
  {
   "cell_type": "markdown",
   "metadata": {},
   "source": [
    "## Assume P(D) = 10%"
   ]
  },
  {
   "cell_type": "markdown",
   "metadata": {},
   "source": [
    "- So here the probabilty is 3 times out of 8 times\n",
    "    - P(2D) = P(GDD or DGD or DDG)    (Disjoint)\n",
    "    - P means 3 occurance are possible of 2 defective so we need to add them up\n",
    "    - P(2D) = P(GDD + DGD + DDG)\n",
    "    - P(2D) = 3/8"
   ]
  },
  {
   "cell_type": "markdown",
   "metadata": {},
   "source": [
    "- P(DGD) as follows\n",
    "- P(2D) = P(D) and P(G) and P(D)\n",
    "- P(2D) = P(D).P(G).P(D)\n"
   ]
  },
  {
   "cell_type": "markdown",
   "metadata": {},
   "source": [
    "So now the elaboration of probability of 2D as follows."
   ]
  },
  {
   "cell_type": "markdown",
   "metadata": {},
   "source": [
    "- P(G).P(D).P(D) + P(D).P(G).P(D) + P(D).P(D).P(G) \n",
    "- (0.9) *(0.1) * (0.1) + (0.1) * (0.9) * (0.1) + (0.1) * (0.1) * (0.9)"
   ]
  },
  {
   "cell_type": "code",
   "execution_count": 10,
   "metadata": {},
   "outputs": [
    {
     "data": {
      "text/plain": [
       "0.027000000000000003"
      ]
     },
     "execution_count": 10,
     "metadata": {},
     "output_type": "execute_result"
    }
   ],
   "source": [
    "(0.9) *(0.1) * (0.1) + (0.1) * (0.9) * (0.1) + (0.1) * (0.1) * (0.9)"
   ]
  },
  {
   "cell_type": "code",
   "execution_count": 13,
   "metadata": {},
   "outputs": [
    {
     "data": {
      "text/plain": [
       "0.027000000000000003"
      ]
     },
     "execution_count": 13,
     "metadata": {},
     "output_type": "execute_result"
    }
   ],
   "source": [
    "3* (0.9 * 0.1 * 0.1)"
   ]
  },
  {
   "cell_type": "markdown",
   "metadata": {},
   "source": [
    "## Addition Rule"
   ]
  },
  {
   "cell_type": "markdown",
   "metadata": {},
   "source": [
    "https://courses.lumenlearning.com/boundless-statistics/chapter/probability-rules/"
   ]
  },
  {
   "cell_type": "markdown",
   "metadata": {},
   "source": [
    "Addition of exclusive events - overlapped event in there any"
   ]
  },
  {
   "cell_type": "markdown",
   "metadata": {},
   "source": [
    "<img src=\"style/addgl.png\" width =\"400\" height=\"400\">"
   ]
  },
  {
   "cell_type": "markdown",
   "metadata": {},
   "source": [
    "<img src=\"style/addven.jpg\" width =\"400\" height=\"400\">"
   ]
  },
  {
   "cell_type": "markdown",
   "metadata": {},
   "source": [
    "<img src=\"style/addition.jpg\" width =\"400\" height=\"400\">"
   ]
  },
  {
   "cell_type": "markdown",
   "metadata": {},
   "source": [
    "## Multiplication Rule"
   ]
  },
  {
   "cell_type": "markdown",
   "metadata": {},
   "source": [
    "<img src=\"style/mulgl.png\" width =\"500\" height=\"500\">"
   ]
  },
  {
   "cell_type": "markdown",
   "metadata": {},
   "source": [
    "<img src=\"style/multigl1.png\" width =\"500\" height=\"500\">"
   ]
  },
  {
   "cell_type": "markdown",
   "metadata": {},
   "source": [
    "### 0.7 * 0.5 = 0.35"
   ]
  },
  {
   "cell_type": "markdown",
   "metadata": {},
   "source": [
    "## Marginal Probabilty"
   ]
  },
  {
   "cell_type": "markdown",
   "metadata": {},
   "source": [
    "<img src=\"style/margin.png\" width =\"700\" height=\"700\">"
   ]
  },
  {
   "cell_type": "markdown",
   "metadata": {},
   "source": [
    "- **Marginal probability** is the probability of an event irrespective of the outcome of another variable.\n",
    "- **Conditional probability** is the probability of one event occurring in the presence of a second event.\n",
    "https://www.mathsisfun.com/data/probability-events-conditional.html"
   ]
  },
  {
   "cell_type": "markdown",
   "metadata": {},
   "source": [
    "- Q1: It is the example of marginal probabilty. At first glance tell me without any dependency, randomly selected family is buyer of the car?\n",
    "- Q2: It is a joint probabilty\n",
    "- Q3: It is the example of conditional probability, that tell me the what is the probability of families that buy car with having income more than 10 Lac. i.e. Out of how many people I am going to select and above is with **P(Car and Income)**"
   ]
  },
  {
   "cell_type": "markdown",
   "metadata": {},
   "source": [
    "<img src=\"style/margin1.png\" width =\"700\" height=\"700\">"
   ]
  },
  {
   "cell_type": "markdown",
   "metadata": {},
   "source": [
    "#### Deductions"
   ]
  },
  {
   "cell_type": "markdown",
   "metadata": {},
   "source": [
    "- Without knowing customers income your chance of buying a car is 40% = 80/200 (marginal prob). \n",
    "- With knowing customers income we do know that he has a high chance of buying car as compare to earlier. i.e. 42/80 = 52% (condition prob)\n",
    "\n",
    "**Which means knowing customers income is worth a time to know that the this customer has a high chance to buy a car.**\n",
    "\n"
   ]
  },
  {
   "cell_type": "markdown",
   "metadata": {},
   "source": [
    "## Bayes Theorem\n",
    "https://www.mathsisfun.com/data/bayes-theorem.html#:~:text=the%20probability%20of%20being%20a,%7CPink)%20%3D%20..."
   ]
  },
  {
   "cell_type": "markdown",
   "metadata": {},
   "source": [
    "### Bayes’ Theorem Example\n",
    "\n",
    "- You might be interested in finding out a patient’s probability of having liver disease if they are an alcoholic. “Being an alcoholic” is the test (kind of like a litmus test) for liver disease.\n",
    "\n",
    "- A. could mean the event “Patient has liver disease.” Past data tells you that 10% of patients entering your clinic have liver disease. P(A) = 0.10.\n",
    "- B. could mean the litmus test that “Patient is an alcoholic.” Five percent of the clinic’s patients are alcoholics. P(B) = 0.05.\n",
    "- You. might also know that among those patients diagnosed with liver disease, 7% are alcoholics. This is your B|A: the probability that a patient is alcoholic, given that they have liver disease, is 7%.\n",
    "\n",
    "**Bayes’ theorem tells you:**\n",
    "\n",
    "- P(A|B) = (0.07 * 0.1)/0.05 = 0.14\n",
    "- In other words, if the patient is an alcoholic, their chances of having liver disease is 0.14 (14%). This is a large increase from the 10% suggested by past data. But it’s still unlikely that any particular patient has liver disease."
   ]
  },
  {
   "cell_type": "markdown",
   "metadata": {},
   "source": [
    "<img src=\"style/bayes_example.jpg\" width =\"700\" height=\"700\">"
   ]
  },
  {
   "cell_type": "markdown",
   "metadata": {},
   "source": [
    "**In other words**\n",
    "- I know the prior that probability that person has liver disease, but if know that person is alcoholic or not i'll get better idea that he has liver disease or not. probaility increases. In this case we have reduced uncertainity\n",
    "- I know that without knowing the person's income he has the probabilty that he will buy a car. But knowing his income more than <10Lac will increase his chances.\n"
   ]
  },
  {
   "cell_type": "markdown",
   "metadata": {},
   "source": [
    "**Best real time example**\n",
    "\n",
    "- The autonomous car: Should I stop. Should I stop if there is cow crossing the road. Should I stop if the man is walking the road. \n",
    "- So now I have tell the program. P(Stop|Cow), now I have to solve the program P(Cow|Stop). \n",
    "- So now I have to annotate the data like. These are the situation that car stopped, and these are the situation that car not stopped.\n",
    "- Now I have to saw the data. when car stopped and when car not stopped. "
   ]
  },
  {
   "cell_type": "markdown",
   "metadata": {},
   "source": [
    "<img src=\"style/bayes-theorem.jpg\" width =\"300\" height=\"300\">"
   ]
  },
  {
   "cell_type": "markdown",
   "metadata": {},
   "source": [
    "<img src=\"style/bayes.png\" width =\"400\" height=\"400\">"
   ]
  },
  {
   "cell_type": "code",
   "execution_count": null,
   "metadata": {},
   "outputs": [],
   "source": []
  }
 ],
 "metadata": {
  "kernelspec": {
   "display_name": "Python 3",
   "language": "python",
   "name": "python3"
  },
  "language_info": {
   "codemirror_mode": {
    "name": "ipython",
    "version": 3
   },
   "file_extension": ".py",
   "mimetype": "text/x-python",
   "name": "python",
   "nbconvert_exporter": "python",
   "pygments_lexer": "ipython3",
   "version": "3.7.3"
  }
 },
 "nbformat": 4,
 "nbformat_minor": 4
}
